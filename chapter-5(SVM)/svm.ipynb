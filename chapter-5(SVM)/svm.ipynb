{
 "cells": [
  {
   "cell_type": "markdown",
   "metadata": {},
   "source": [
    "# Support Vector Machines\n",
    "SVMs are used for classification and seperation from other classes. \n",
    "Example:-\n",
    "- Linear SVM Classification\n",
    "- Soft Margin Classification\n",
    "- Non-linear SVM Classification\n",
    "And much more"
   ]
  },
  {
   "cell_type": "code",
   "execution_count": 1,
   "metadata": {},
   "outputs": [],
   "source": [
    "# We will use Iris dataset for calssification"
   ]
  },
  {
   "cell_type": "code",
   "execution_count": 2,
   "metadata": {},
   "outputs": [],
   "source": [
    "import numpy as np\n",
    "from sklearn import datasets\n",
    "from sklearn.pipeline import Pipeline\n",
    "from sklearn.preprocessing import StandardScaler\n",
    "from sklearn.svm import LinearSVC\n"
   ]
  },
  {
   "cell_type": "code",
   "execution_count": 3,
   "metadata": {},
   "outputs": [],
   "source": [
    "iris = datasets.load_iris()\n",
    "X = iris[\"data\"][:, (2, 3)] # Petal length, Petal width\n",
    "y = (iris[\"target\"] == 2).astype(np.float64)  # Iris virginica"
   ]
  },
  {
   "cell_type": "code",
   "execution_count": 4,
   "metadata": {},
   "outputs": [
    {
     "data": {
      "text/plain": [
       "array([[1.4, 0.2],\n",
       "       [1.4, 0.2],\n",
       "       [1.3, 0.2],\n",
       "       [1.5, 0.2],\n",
       "       [1.4, 0.2],\n",
       "       [1.7, 0.4],\n",
       "       [1.4, 0.3],\n",
       "       [1.5, 0.2],\n",
       "       [1.4, 0.2],\n",
       "       [1.5, 0.1],\n",
       "       [1.5, 0.2],\n",
       "       [1.6, 0.2],\n",
       "       [1.4, 0.1],\n",
       "       [1.1, 0.1],\n",
       "       [1.2, 0.2],\n",
       "       [1.5, 0.4],\n",
       "       [1.3, 0.4],\n",
       "       [1.4, 0.3],\n",
       "       [1.7, 0.3],\n",
       "       [1.5, 0.3],\n",
       "       [1.7, 0.2],\n",
       "       [1.5, 0.4],\n",
       "       [1. , 0.2],\n",
       "       [1.7, 0.5],\n",
       "       [1.9, 0.2],\n",
       "       [1.6, 0.2],\n",
       "       [1.6, 0.4],\n",
       "       [1.5, 0.2],\n",
       "       [1.4, 0.2],\n",
       "       [1.6, 0.2],\n",
       "       [1.6, 0.2],\n",
       "       [1.5, 0.4],\n",
       "       [1.5, 0.1],\n",
       "       [1.4, 0.2],\n",
       "       [1.5, 0.2],\n",
       "       [1.2, 0.2],\n",
       "       [1.3, 0.2],\n",
       "       [1.4, 0.1],\n",
       "       [1.3, 0.2],\n",
       "       [1.5, 0.2],\n",
       "       [1.3, 0.3],\n",
       "       [1.3, 0.3],\n",
       "       [1.3, 0.2],\n",
       "       [1.6, 0.6],\n",
       "       [1.9, 0.4],\n",
       "       [1.4, 0.3],\n",
       "       [1.6, 0.2],\n",
       "       [1.4, 0.2],\n",
       "       [1.5, 0.2],\n",
       "       [1.4, 0.2],\n",
       "       [4.7, 1.4],\n",
       "       [4.5, 1.5],\n",
       "       [4.9, 1.5],\n",
       "       [4. , 1.3],\n",
       "       [4.6, 1.5],\n",
       "       [4.5, 1.3],\n",
       "       [4.7, 1.6],\n",
       "       [3.3, 1. ],\n",
       "       [4.6, 1.3],\n",
       "       [3.9, 1.4],\n",
       "       [3.5, 1. ],\n",
       "       [4.2, 1.5],\n",
       "       [4. , 1. ],\n",
       "       [4.7, 1.4],\n",
       "       [3.6, 1.3],\n",
       "       [4.4, 1.4],\n",
       "       [4.5, 1.5],\n",
       "       [4.1, 1. ],\n",
       "       [4.5, 1.5],\n",
       "       [3.9, 1.1],\n",
       "       [4.8, 1.8],\n",
       "       [4. , 1.3],\n",
       "       [4.9, 1.5],\n",
       "       [4.7, 1.2],\n",
       "       [4.3, 1.3],\n",
       "       [4.4, 1.4],\n",
       "       [4.8, 1.4],\n",
       "       [5. , 1.7],\n",
       "       [4.5, 1.5],\n",
       "       [3.5, 1. ],\n",
       "       [3.8, 1.1],\n",
       "       [3.7, 1. ],\n",
       "       [3.9, 1.2],\n",
       "       [5.1, 1.6],\n",
       "       [4.5, 1.5],\n",
       "       [4.5, 1.6],\n",
       "       [4.7, 1.5],\n",
       "       [4.4, 1.3],\n",
       "       [4.1, 1.3],\n",
       "       [4. , 1.3],\n",
       "       [4.4, 1.2],\n",
       "       [4.6, 1.4],\n",
       "       [4. , 1.2],\n",
       "       [3.3, 1. ],\n",
       "       [4.2, 1.3],\n",
       "       [4.2, 1.2],\n",
       "       [4.2, 1.3],\n",
       "       [4.3, 1.3],\n",
       "       [3. , 1.1],\n",
       "       [4.1, 1.3],\n",
       "       [6. , 2.5],\n",
       "       [5.1, 1.9],\n",
       "       [5.9, 2.1],\n",
       "       [5.6, 1.8],\n",
       "       [5.8, 2.2],\n",
       "       [6.6, 2.1],\n",
       "       [4.5, 1.7],\n",
       "       [6.3, 1.8],\n",
       "       [5.8, 1.8],\n",
       "       [6.1, 2.5],\n",
       "       [5.1, 2. ],\n",
       "       [5.3, 1.9],\n",
       "       [5.5, 2.1],\n",
       "       [5. , 2. ],\n",
       "       [5.1, 2.4],\n",
       "       [5.3, 2.3],\n",
       "       [5.5, 1.8],\n",
       "       [6.7, 2.2],\n",
       "       [6.9, 2.3],\n",
       "       [5. , 1.5],\n",
       "       [5.7, 2.3],\n",
       "       [4.9, 2. ],\n",
       "       [6.7, 2. ],\n",
       "       [4.9, 1.8],\n",
       "       [5.7, 2.1],\n",
       "       [6. , 1.8],\n",
       "       [4.8, 1.8],\n",
       "       [4.9, 1.8],\n",
       "       [5.6, 2.1],\n",
       "       [5.8, 1.6],\n",
       "       [6.1, 1.9],\n",
       "       [6.4, 2. ],\n",
       "       [5.6, 2.2],\n",
       "       [5.1, 1.5],\n",
       "       [5.6, 1.4],\n",
       "       [6.1, 2.3],\n",
       "       [5.6, 2.4],\n",
       "       [5.5, 1.8],\n",
       "       [4.8, 1.8],\n",
       "       [5.4, 2.1],\n",
       "       [5.6, 2.4],\n",
       "       [5.1, 2.3],\n",
       "       [5.1, 1.9],\n",
       "       [5.9, 2.3],\n",
       "       [5.7, 2.5],\n",
       "       [5.2, 2.3],\n",
       "       [5. , 1.9],\n",
       "       [5.2, 2. ],\n",
       "       [5.4, 2.3],\n",
       "       [5.1, 1.8]])"
      ]
     },
     "execution_count": 4,
     "metadata": {},
     "output_type": "execute_result"
    }
   ],
   "source": [
    "X"
   ]
  },
  {
   "cell_type": "code",
   "execution_count": 5,
   "metadata": {},
   "outputs": [
    {
     "data": {
      "text/plain": [
       "1"
      ]
     },
     "execution_count": 5,
     "metadata": {},
     "output_type": "execute_result"
    }
   ],
   "source": [
    "iris.target.ndim"
   ]
  },
  {
   "cell_type": "code",
   "execution_count": 6,
   "metadata": {},
   "outputs": [
    {
     "data": {
      "text/plain": [
       "0.3333333333333333"
      ]
     },
     "execution_count": 6,
     "metadata": {},
     "output_type": "execute_result"
    }
   ],
   "source": [
    "y.mean()"
   ]
  },
  {
   "cell_type": "code",
   "execution_count": 7,
   "metadata": {},
   "outputs": [],
   "source": [
    "svm_clf = Pipeline([\n",
    "    (\"scaler\", StandardScaler()),\n",
    "    (\"linear_svc\", LinearSVC(C=1, loss=\"hinge\")),\n",
    "])"
   ]
  },
  {
   "cell_type": "code",
   "execution_count": 8,
   "metadata": {},
   "outputs": [
    {
     "data": {
      "text/plain": [
       "Pipeline(steps=[('scaler', StandardScaler()),\n",
       "                ('linear_svc', LinearSVC(C=1, loss='hinge'))])"
      ]
     },
     "execution_count": 8,
     "metadata": {},
     "output_type": "execute_result"
    }
   ],
   "source": [
    "svm_clf.fit(X, y)"
   ]
  },
  {
   "cell_type": "code",
   "execution_count": 9,
   "metadata": {},
   "outputs": [
    {
     "data": {
      "text/plain": [
       "array([1.])"
      ]
     },
     "execution_count": 9,
     "metadata": {},
     "output_type": "execute_result"
    }
   ],
   "source": [
    "svm_clf.predict([[5.5, 1.7]])"
   ]
  },
  {
   "cell_type": "code",
   "execution_count": null,
   "metadata": {},
   "outputs": [],
   "source": []
  },
  {
   "cell_type": "markdown",
   "metadata": {},
   "source": [
    "# Non-Linear SVM Classification"
   ]
  },
  {
   "cell_type": "markdown",
   "metadata": {},
   "source": [
    "- Non-linear SVM classifiers are efficient and work well in many cases.\n",
    "- One approach to handle non-linear features is to add more features, such as polynomial features."
   ]
  },
  {
   "cell_type": "markdown",
   "metadata": {},
   "source": [
    "## Example showing need of polynomial features for non-linear seperable datasets"
   ]
  },
  {
   "cell_type": "code",
   "execution_count": 10,
   "metadata": {},
   "outputs": [
    {
     "data": {
      "text/plain": [
       "Text(0.5, 1.0, \"This is a non-linear seperable dataset i.e. it can't be seperated using linear classification algorithms\")"
      ]
     },
     "execution_count": 10,
     "metadata": {},
     "output_type": "execute_result"
    },
    {
     "data": {
      "image/png": "[encoded data removed]",
      "text/plain": [
       "<Figure size 432x288 with 1 Axes>"
      ]
     },
     "metadata": {
      "needs_background": "light"
     },
     "output_type": "display_data"
    }
   ],
   "source": [
    "# Example for solving non-linear seperable datasets\n",
    "import matplotlib.pyplot as plt\n",
    "plot_x_green = [-2, -1, 0, 1, 2]\n",
    "plot_y_green = [8, 8, 8, 8, 8]\n",
    "plot_x_blue = [-4, -3, 3, 4]\n",
    "plot_y_blue = [8, 8, 8, 8]\n",
    "\n",
    "plt.scatter(plot_x_green, plot_y_green, color='green', marker=\"d\")\n",
    "plt.scatter(plot_x_blue, plot_y_blue, c=\"b\", marker=\"s\" )\n",
    "plt.title(\"This is a non-linear seperable dataset i.e. it can't be seperated using linear classification algorithms\")\n"
   ]
  },
  {
   "cell_type": "code",
   "execution_count": 11,
   "metadata": {},
   "outputs": [
    {
     "data": {
      "text/plain": [
       "[6, 6, 6, 6, 6, 6]"
      ]
     },
     "execution_count": 11,
     "metadata": {},
     "output_type": "execute_result"
    }
   ],
   "source": [
    "[6]*6"
   ]
  },
  {
   "cell_type": "code",
   "execution_count": 12,
   "metadata": {},
   "outputs": [
    {
     "data": {
      "text/plain": [
       "Text(0.5, 1.0, 'This dataset is linearly seperable now.')"
      ]
     },
     "execution_count": 12,
     "metadata": {},
     "output_type": "execute_result"
    },
    {
     "data": {
      "image/png": "[encoded data removed]",
      "text/plain": [
       "<Figure size 432x288 with 1 Axes>"
      ]
     },
     "metadata": {
      "needs_background": "light"
     },
     "output_type": "display_data"
    }
   ],
   "source": [
    "# but if we add polynomial feature\n",
    "def addFeature(x, y):\n",
    "    for i in range(len(y)):\n",
    "        y[i] = x[i]**2\n",
    "\n",
    "    return y\n",
    "\n",
    "plot_y_green = addFeature(plot_x_green, plot_y_green)\n",
    "plot_y_blue = addFeature(plot_x_blue, plot_y_blue)\n",
    "\n",
    "\n",
    "plt.scatter(plot_x_green, plot_y_green, color='green', marker=\"d\")\n",
    "plt.scatter(plot_x_blue, plot_y_blue, c=\"b\", marker=\"s\" )\n",
    "plt.plot(range(-4, 4), [6]*8, linestyle=\"dashed\")\n",
    "plt.title(\"This dataset is linearly seperable now.\")\n",
    "\n"
   ]
  },
  {
   "cell_type": "markdown",
   "metadata": {},
   "source": [
    "## Implementing using scikit learn"
   ]
  },
  {
   "cell_type": "code",
   "execution_count": 13,
   "metadata": {},
   "outputs": [
    {
     "name": "stderr",
     "output_type": "stream",
     "text": [
      "c:\\Users\\amitk\\anaconda3\\lib\\site-packages\\sklearn\\svm\\_base.py:985: ConvergenceWarning: Liblinear failed to converge, increase the number of iterations.\n",
      "  warnings.warn(\"Liblinear failed to converge, increase \"\n"
     ]
    },
    {
     "data": {
      "text/plain": [
       "Pipeline(steps=[('poly_features', PolynomialFeatures(degree=3)),\n",
       "                ('scalar', StandardScaler()),\n",
       "                ('svm_clf', LinearSVC(C=10, loss='hinge'))])"
      ]
     },
     "execution_count": 13,
     "metadata": {},
     "output_type": "execute_result"
    }
   ],
   "source": [
    "from sklearn.datasets import make_moons\n",
    "from sklearn.pipeline import Pipeline\n",
    "from sklearn.preprocessing import PolynomialFeatures\n",
    "\n",
    "\n",
    "X, y = make_moons(n_samples=100, noise=0.5)\n",
    "polynomial_svm_clf = Pipeline([\n",
    "    (\"poly_features\", PolynomialFeatures(degree=3)),\n",
    "    (\"scalar\", StandardScaler()),\n",
    "    (\"svm_clf\", LinearSVC(C=10, loss='hinge')),\n",
    "\n",
    "])\n",
    "\n",
    "polynomial_svm_clf.fit(X, y)"
   ]
  },
  {
   "cell_type": "code",
   "execution_count": 14,
   "metadata": {},
   "outputs": [
    {
     "name": "stdout",
     "output_type": "stream",
     "text": [
      "[[-0.20824201 -0.52687599]\n",
      " [-0.05178756  0.32813351]\n",
      " [ 0.60746359  0.74646461]\n",
      " [ 1.00824089 -1.18057319]\n",
      " [-0.7408089   0.49861463]\n",
      " [ 0.52047521 -0.60874669]\n",
      " [-1.60610226  0.774737  ]\n",
      " [ 0.67298386  0.44557033]\n",
      " [ 0.1538511   1.43133175]\n",
      " [-1.21344765  0.48023699]\n",
      " [-0.60110423  0.54930234]\n",
      " [ 1.4273133  -0.43072139]\n",
      " [-0.37074631  0.05334019]\n",
      " [ 0.6313201   0.08148662]\n",
      " [-0.49348449  1.11719984]\n",
      " [ 2.11501096  0.24479008]\n",
      " [ 0.27585531 -0.84844134]\n",
      " [ 0.6035259  -0.98959037]\n",
      " [-0.46229574  0.73484537]\n",
      " [ 1.24159085  0.08608062]\n",
      " [-0.0308692   0.38596523]\n",
      " [ 1.63473283 -0.02898374]\n",
      " [ 0.29735063 -1.02084454]\n",
      " [-1.14340686  1.1347281 ]\n",
      " [ 0.64602164  0.77521407]\n",
      " [ 0.50088611  1.40981347]\n",
      " [-0.28605624  0.3561848 ]\n",
      " [ 2.63473072  0.60718796]\n",
      " [ 1.57731507  0.11481586]\n",
      " [ 2.02631712 -0.08852634]\n",
      " [-0.54165005  0.90969533]\n",
      " [ 1.6573992   0.54115164]\n",
      " [ 0.09009612  0.92200596]\n",
      " [ 1.06906471  0.42076299]\n",
      " [-0.83996612 -0.2322318 ]\n",
      " [ 1.24184862  0.76110041]\n",
      " [-0.54370116  1.4977743 ]\n",
      " [ 1.19753399 -0.11555701]\n",
      " [ 0.6497056  -0.34838333]\n",
      " [-1.39407437  0.50337748]\n",
      " [ 0.91818128  0.69447779]\n",
      " [ 0.72649194  0.24114404]\n",
      " [ 0.30683017  1.01037958]\n",
      " [ 0.01371745  0.03471988]\n",
      " [ 1.49409226  1.03809401]\n",
      " [ 1.65245694  1.35782463]\n",
      " [ 2.03127867  0.40598151]\n",
      " [ 2.2916145   0.0250597 ]\n",
      " [-1.34313605 -0.66090285]\n",
      " [-1.03781302 -0.05389945]\n",
      " [ 0.70691801 -0.02546462]\n",
      " [ 0.4297493   0.76392823]\n",
      " [-1.33433757  0.86657775]\n",
      " [ 0.77858    -0.3200245 ]\n",
      " [ 0.56662208  1.30176191]\n",
      " [ 0.60061682  0.96286138]\n",
      " [ 2.62255302  0.24666493]\n",
      " [ 0.58964853  0.99695359]\n",
      " [-1.12628419  0.52792066]\n",
      " [ 0.77542198  0.32435665]\n",
      " [-2.04080656  0.34685263]\n",
      " [ 1.85146986 -0.93527342]\n",
      " [ 0.3313613   0.99286834]\n",
      " [ 0.9794172  -0.57130808]\n",
      " [ 0.86739586 -0.35079305]\n",
      " [ 0.23222043 -0.54567636]\n",
      " [ 0.36749758  0.45928441]\n",
      " [-0.27242016  0.2751856 ]\n",
      " [ 0.20100995  0.74363498]\n",
      " [ 0.62145154  1.0325708 ]\n",
      " [ 0.03848017 -0.01216338]\n",
      " [-0.86221126  1.01413623]\n",
      " [ 0.3482263   0.25887012]\n",
      " [ 1.3761486  -0.56537895]\n",
      " [-0.21969995  0.86836174]\n",
      " [ 1.15446222 -0.60483801]\n",
      " [ 1.87395017  0.48345128]\n",
      " [ 0.42293621  0.1161194 ]\n",
      " [-0.62691466  0.14597873]\n",
      " [ 0.15835324 -0.18999694]\n",
      " [ 1.2244432  -0.88126459]\n",
      " [ 0.16384996  1.39733046]\n",
      " [-0.21673324  1.35214889]\n",
      " [ 1.14111685  0.78310111]\n",
      " [ 0.45124529  0.44388749]\n",
      " [ 0.27974146 -0.06176697]\n",
      " [ 0.89428844  0.81613439]\n",
      " [-0.63960479  0.69672324]\n",
      " [ 0.40680361 -0.68414741]\n",
      " [ 1.69398079  0.93235158]\n",
      " [ 2.24856778  0.73984067]\n",
      " [ 0.02703671  0.43240935]\n",
      " [-0.04141801 -0.57949128]\n",
      " [ 1.23800994 -0.62457613]\n",
      " [ 1.58371957  0.19050706]\n",
      " [ 0.84343479  0.03881743]\n",
      " [ 0.69375877 -0.65118144]\n",
      " [ 1.52967489 -0.36830056]\n",
      " [ 1.59831511 -1.20540093]\n",
      " [-1.27285657  0.70310679]] [1 1 0 1 0 1 0 0 0 0 0 1 1 1 0 1 0 1 0 1 0 1 1 0 0 0 0 1 1 1 0 1 0 0 0 1 0\n",
      " 1 1 0 0 1 0 1 1 1 1 1 0 0 1 0 0 0 0 0 1 0 0 0 0 1 0 1 0 0 0 1 0 1 1 1 1 1\n",
      " 0 1 1 0 1 1 1 0 0 0 0 0 0 1 1 0 1 0 1 1 1 1 1 1 1 0]\n"
     ]
    }
   ],
   "source": [
    "print(X, y)"
   ]
  },
  {
   "cell_type": "markdown",
   "metadata": {},
   "source": [
    "# Polynomial Kernel\n",
    " - It is a technique to tackle the problem of low degree polynomial and high degree polynomials\n",
    " - As for low degree polynomial this method cannot deal with complex datasets and with high polynomial degree it creates huge number of features,making the model too slow."
   ]
  },
  {
   "cell_type": "code",
   "execution_count": 15,
   "metadata": {},
   "outputs": [
    {
     "data": {
      "text/plain": [
       "Pipeline(steps=[('scaler', StandardScaler()),\n",
       "                ('svm_clf', SVC(C=5, coef0=1, kernel='poly'))])"
      ]
     },
     "execution_count": 15,
     "metadata": {},
     "output_type": "execute_result"
    }
   ],
   "source": [
    "from sklearn.svm import SVC\n",
    "\n",
    "poly_kernel_svm_clf = Pipeline([\n",
    "    (\"scaler\", StandardScaler()),\n",
    "    (\"svm_clf\", SVC(kernel='poly', degree=3, coef0=1, C=5))\n",
    "])\n",
    "\n",
    "poly_kernel_svm_clf.fit(X, y)"
   ]
  },
  {
   "cell_type": "markdown",
   "metadata": {},
   "source": [
    "# Similarity feaures\n",
    "- Another technique to tackle nonlinear problems is to add features computed using similarity function, which measures how much each instance resembles a particukar landmark.\n",
    "### Some similarity functions\n",
    " - Gaussian RBF (Gaussian Radial Basis Function). [ phi(x, l) = exp(-gamma * || x - l ||^2) ]\n",
    "\n",
    "<code>Note: Though the similarity function method is good, but it is computationally expensive.</code>\n"
   ]
  },
  {
   "cell_type": "code",
   "execution_count": null,
   "metadata": {},
   "outputs": [],
   "source": []
  }
 ],
 "metadata": {
  "interpreter": {
   "hash": "71bbc58a21c7ecae4321241c6c23d66ddeac95e639d6038f404638f97ef5aff1"
  },
  "kernelspec": {
   "display_name": "Python 3.8.8 ('base')",
   "language": "python",
   "name": "python3"
  },
  "language_info": {
   "codemirror_mode": {
    "name": "ipython",
    "version": 3
   },
   "file_extension": ".py",
   "mimetype": "text/x-python",
   "name": "python",
   "nbconvert_exporter": "python",
   "pygments_lexer": "ipython3",
   "version": "3.8.8"
  },
  "orig_nbformat": 4
 },
 "nbformat": 4,
 "nbformat_minor": 2
}
